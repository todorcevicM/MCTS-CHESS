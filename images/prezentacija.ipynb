{
 "cells": [
  {
   "cell_type": "markdown",
   "metadata": {
    "slideshow": {
     "slide_type": "fragment"
    }
   },
   "source": [
    "<div class=\"alert alert-block alert-info\"; style = \"color:black\">\n",
    "<h1>Monte Carlo Tree Search primenjen za kreaciju programa koji igra šah</h1>\n",
    "<h2>> Nikola Matijević IN02-2018</h2>\n",
    "<h2>> Marko Todorčević IN03-2018</h2>\n",
    "</div>"
   ]
  },
  {
   "cell_type": "markdown",
   "metadata": {},
   "source": [
    "\n",
    "<div class=\"alert alert-block alert-info\" style = \"color:black\">\n",
    "    <h1>Biblioteke koje smo koristili</h1>\n",
    "    <h2>python-chess</h2> \n",
    "<p>je biblioteka za šah pisana za python, <br>sa generisanjem poteza, validacijom poteza, podrškom za različite formate šahovske table</p>\n",
    "\n",
    "<h3>metode iz biblioteke python-chess</h3>\n",
    "\n",
    ">chess.board.is_checkmate() <br> \n",
    "chess.board.is_insufficient_material() <br>\n",
    "chess.board()<br>\n",
    "chess.board.turn<br>\n",
    "chess.board.generate_legal_moves()<br>\n",
    "chess.copy.copy(chess.board)\n",
    "\n",
    "\n",
    "\n",
    "## numpy & time\n",
    "### metode\n",
    "\n",
    ">np.log() <br>\n",
    "np.random.random_sample()<br>\n",
    "time.time() <br>\n",
    "</div>"
   ]
  },
  {
   "cell_type": "code",
   "execution_count": null,
   "metadata": {},
   "outputs": [],
   "source": [
    "import chess\n",
    "import numpy as np\n",
    "import time "
   ]
  },
  {
   "cell_type": "markdown",
   "metadata": {},
   "source": [
    "<h1 class=\"alert alert-block alert-info\" style = \"color:black\"> MCTS node </h1>"
   ]
  },
  {
   "cell_type": "code",
   "execution_count": null,
   "metadata": {},
   "outputs": [],
   "source": [
    "class MCTS_node:\n",
    "\n",
    "    def __init__(self, board, parent):\n",
    "        self.board = board\n",
    "        self.parent = parent\n",
    "        self.children = []\n",
    "\n",
    "        self.wins = 0\n",
    "        self.visits = 0"
   ]
  },
  {
   "cell_type": "code",
   "execution_count": null,
   "metadata": {},
   "outputs": [],
   "source": [
    "    def selection(self):        \n",
    "        ret_child = self.children[0]\n",
    "        for child in self.children:\n",
    "            childUCT = self.UCT(node = child)\n",
    "            retchildUCT = self.UCT(node = ret_child)\n",
    "            if(self.board.turn):\n",
    "                if(childUCT < retchildUCT):\n",
    "                    ret_child = child\n",
    "            else:\n",
    "                if(childUCT > retchildUCT):\n",
    "                    ret_child = child\n",
    "        return ret_child\n"
   ]
  },
  {
   "cell_type": "code",
   "execution_count": null,
   "metadata": {},
   "outputs": [],
   "source": [
    "    @staticmethod\n",
    "    def UCT(node):\n",
    "        if node.visits == 0:\n",
    "            if(node.board.turn):\n",
    "                return 1\n",
    "            else:\n",
    "                return -1\n",
    "        if(node.board.turn):#ako je true igra beli\n",
    "            return node.wins / node.visits + (1 * np.log(node.parent.visits) / node.visits) ** (1 / 2)\n",
    "        return (node.wins / node.visits - (1 * np.log(node.parent.visits) / node.visits) ** (1 / 2))\n"
   ]
  },
  {
   "cell_type": "markdown",
   "metadata": {},
   "source": [
    "<div class=\"alert alert-block alert-success\" style = \"font-size:large; color:black\">\n",
    "Defult povratne vrednosti za neistražene čvorove: Inf/-Inf -> 0 -> 1/-1 -> 0.5/-0.5 -> 0.5/-1 -> 1/-1\n",
    "<br>Faktor C u UCT: 2, 0.5, 0.01, 1\n",
    "<br>UCT se sastoji iz eksplatacije i istraživanja</div>"
   ]
  },
  {
   "cell_type": "code",
   "execution_count": null,
   "metadata": {},
   "outputs": [],
   "source": [
    "    def expansion(self):\n",
    "        legal_moves = list(self.board.generate_legal_moves())\n",
    "        \n",
    "        for move in legal_moves:\n",
    "            # a new board must be made for every node, and must then be updated with the current move\n",
    "            new_board = chess.copy.copy(self.board)\n",
    "            new_board.push(move)\n",
    "            self.children.append(MCTS_node(new_board, self))\n"
   ]
  },
  {
   "cell_type": "code",
   "execution_count": null,
   "metadata": {},
   "outputs": [],
   "source": [
    "    def simulate_batch(self):\n",
    "        # number of playouts, fit for change\n",
    "        no_playouts = 1\n",
    "        \n",
    "        for _ in range(no_playouts):\n",
    "            # do a simulation from the current board state, sum the returned value to the \n",
    "            a = self.simulation()\n",
    "            # a is so far, either 0 or 1\n",
    "            self.wins += a\n",
    "            # visits gets incremented regardless of wheter or not the simulation resulted in a win\n",
    "            self.visits += 1\n"
   ]
  },
  {
   "cell_type": "markdown",
   "metadata": {},
   "source": [
    "<div class=\"alert alert-block alert-success\" style = \"font-size:x-large; color:black\">\n",
    "<b>no_playouts: 25 -> 5 -> 1</b></div>"
   ]
  },
  {
   "cell_type": "code",
   "execution_count": null,
   "metadata": {},
   "outputs": [],
   "source": [
    "    def simulation(node):\n",
    "        new_tmp_board = chess.copy.copy(node.board)\n",
    "        n = 20;\n",
    "        while(n):\n",
    "            n -= 1\n",
    "            if(new_tmp_board.is_check()):\n",
    "                break\n",
    "            legal = list(new_tmp_board.generate_legal_moves())\n",
    "            if(len(legal) == 0):\n",
    "                break\n",
    "            new_tmp_board.push((legal[(int)(np.random.random_sample()*(len(legal)-1))]))\n",
    "        \n",
    "        if(n == 0):\n",
    "            return 0\n",
    "        if(new_tmp_board.turn):\n",
    "            return 1\n",
    "        if(~new_tmp_board.turn):\n",
    "            return -1\n",
    "        return 0\n"
   ]
  },
  {
   "cell_type": "markdown",
   "metadata": {},
   "source": [
    "![relation](relation.png)"
   ]
  },
  {
   "cell_type": "code",
   "execution_count": null,
   "metadata": {},
   "outputs": [],
   "source": [
    "    def back_propagation(self):\n",
    "        # used to iterate over parents\n",
    "        tmp = self.parent\n",
    "        \n",
    "        while(tmp != None):\n",
    "            tmp.visits += self.visits\n",
    "            tmp.wins += self.wins\n",
    "            tmp = tmp.parent\n"
   ]
  },
  {
   "cell_type": "code",
   "execution_count": null,
   "metadata": {},
   "outputs": [],
   "source": [
    "import chess\n",
    "import numpy as np\n",
    "import time \n",
    "    \n",
    "class MCTS_node:\n",
    "    \n",
    "    def __init__(self, board, parent):\n",
    "        self.board = board\n",
    "        self.parent = parent\n",
    "        self.children = []\n",
    "        \n",
    "        self.wins = 0\n",
    "        self.visits = 0\n",
    "        \n",
    "    @staticmethod\n",
    "    def UCT(node):\n",
    "        if node.visits == 0:\n",
    "            if(node.board.turn):\n",
    "                return 1\n",
    "            else:\n",
    "                return -1\n",
    "        if(node.board.turn):#ako je true igra beli\n",
    "            return node.wins / node.visits + (1 * np.log(node.parent.visits) / node.visits) ** (1 / 2)\n",
    "        return (node.wins / node.visits - (1 * np.log(node.parent.visits) / node.visits) ** (1 / 2))\n",
    "        \n",
    "    # returns the child whose UCT value is the highest of all the other children\n",
    "    # if there are multiple child nodes with the same value then the node that was found first will be returned\n",
    "    # maybe fix this and return one random from all the ones with the max value\n",
    "    def selection(self):        \n",
    "        ret_child = self.children[0]\n",
    "        for child in self.children:\n",
    "            childUCT = self.UCT(node = child)\n",
    "            retchildUCT = self.UCT(node = ret_child)\n",
    "            if(self.board.turn):\n",
    "                if(childUCT < retchildUCT):\n",
    "                    ret_child = child\n",
    "            else:\n",
    "                if(childUCT > retchildUCT):\n",
    "                    ret_child = child\n",
    "        return ret_child\n",
    "    \n",
    "    \n",
    "    def simulation(node):\n",
    "        new_tmp_board = chess.copy.copy(node.board)\n",
    "        n = 20\n",
    "        while(n):\n",
    "            n -= 1\n",
    "            if(new_tmp_board.is_check()):\n",
    "                break\n",
    "            legal = list(new_tmp_board.generate_legal_moves())\n",
    "            if(len(legal) == 0):\n",
    "                break\n",
    "            new_tmp_board.push((legal[(int)(np.random.random_sample()*(len(legal)-1))]))\n",
    "        \n",
    "        if(n == 0):\n",
    "            return 0\n",
    "        if(new_tmp_board.turn):\n",
    "            return -1\n",
    "        if(~new_tmp_board.turn):\n",
    "            return 1\n",
    "        return 0\n",
    "       \n",
    "    # expansion is done by generating all legal moves and then appending them to the tree\n",
    "    def expansion(self):\n",
    "        legal_moves = list(self.board.generate_legal_moves())\n",
    "        \n",
    "        for move in legal_moves:\n",
    "            # a new board must be made for every node, and must then be updated with the current move\n",
    "            new_board = chess.copy.copy(self.board)\n",
    "            new_board.push(move)\n",
    "            self.children.append(MCTS_node(new_board, self))\n",
    "    \n",
    "    \n",
    "    # updates all the node that are on the path from the current node, up until it reaches the root node\n",
    "    def back_propagation(self):\n",
    "        # used to iterate over parents\n",
    "        tmp = self.parent\n",
    "        \n",
    "        while(tmp != None):\n",
    "            tmp.visits += self.visits\n",
    "            tmp.wins += self.wins\n",
    "            tmp = tmp.parent\n",
    "            \n",
    "    def simulate_batch(self):\n",
    "        # number of playouts, fit for change\n",
    "        no_playouts = 1\n",
    "        \n",
    "        for _ in range(no_playouts):\n",
    "            # do a simulation from the current board state, sum the returned value to the \n",
    "            result = self.simulation()\n",
    "            # a is so far, either 0 or 1\n",
    "            self.wins += result\n",
    "            # visits gets incremented regardless of wheter or not the simulation resulted in a win\n",
    "            self.visits += 1"
   ]
  },
  {
   "cell_type": "markdown",
   "metadata": {},
   "source": [
    "<div class=\"alert alert-block alert-success\" style = \"font-size:x-large; color:black\">\n",
    "<b>Sama igra:</b> vs stockfish -> vs self</div>"
   ]
  },
  {
   "cell_type": "code",
   "execution_count": null,
   "metadata": {
    "scrolled": true
   },
   "outputs": [],
   "source": [
    "def play(num_moves = 20, time_for_move = 3):\n",
    "    root = MCTS_node(chess.Board(), None)\n",
    "    while ((num_moves) and ~(root.board.is_checkmate())):\n",
    "        num_moves -= 1        \n",
    "        root.parent = None\n",
    "        tmp = root\n",
    "        if(root.board.is_checkmate()):\n",
    "            return root.board\n",
    "        start_time = time.time()\n",
    "        while (time.time() - start_time < time_for_move):\n",
    "            tmp = root        \n",
    "            while (len(tmp.children) != 0):\n",
    "                tmp = tmp.selection()\n",
    "                \n",
    "            tmp.expansion()\n",
    "            if(tmp.visits == 0):\n",
    "                tmp.simulate_batch()\n",
    "                tmp.back_propagation()\n",
    "\n",
    "        #for node in root.children:\n",
    "        #    print(\"{} {} {}\".format(node.visits, node.wins, node.UCT(node)))\n",
    "        root = root.selection()\n",
    "        if(root.board.is_checkmate() or root.board.is_insufficient_material()):\n",
    "            return root.board\n",
    "        print(root.board);\n",
    "        #print(\"\\n\")\n",
    "        print(num_moves)\n",
    "    return root.board   \n",
    "\n",
    "            \n",
    "play(100,1)"
   ]
  },
  {
   "cell_type": "markdown",
   "metadata": {},
   "source": [
    "### parametri 50 poteza 6 sekund razmišljanja\n",
    "![parametri_50_poteza_6_sekundi_3](parametri_50_poteza_6_sekundi_3.png)\n",
    "![parametri_50_poteza_6_sekundi_2](parametri_50_poteza_6_sekundi_2.png)\n",
    "![parametri_50_poteza_6_sekundi](parametri_50_poteza_6_sekundi.png)"
   ]
  },
  {
   "cell_type": "markdown",
   "metadata": {},
   "source": [
    "### pobede belog 1000 poteza 1 sekund razmišljanja\n",
    "\n",
    "\n",
    "![white_win_1000_moves_1_s](white_win_1000_moves_1_s.png)\n",
    "![white_win_1000_moves_1_s_2](white_win_1000_moves_1_s_2.png)\n",
    "![white_win_1000_moves_1_s_3](white_win_1000_moves_1_s_3.png)"
   ]
  }
 ],
 "metadata": {
  "celltoolbar": "Slideshow",
  "kernelspec": {
   "display_name": "Python 3",
   "language": "python",
   "name": "python3"
  },
  "language_info": {
   "codemirror_mode": {
    "name": "ipython",
    "version": 3
   },
   "file_extension": ".py",
   "mimetype": "text/x-python",
   "name": "python",
   "nbconvert_exporter": "python",
   "pygments_lexer": "ipython3",
   "version": "3.8.5"
  }
 },
 "nbformat": 4,
 "nbformat_minor": 4
}
